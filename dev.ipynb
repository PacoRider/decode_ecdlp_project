{
 "cells": [
  {
   "cell_type": "code",
   "execution_count": 2,
   "id": "4b9f4148",
   "metadata": {},
   "outputs": [],
   "source": [
    "from sympy import mod_inverse"
   ]
  },
  {
   "cell_type": "code",
   "execution_count": 3,
   "id": "77991f8f",
   "metadata": {},
   "outputs": [],
   "source": [
    "p = 5\n",
    "a = 2\n",
    "b = 3"
   ]
  },
  {
   "cell_type": "code",
   "execution_count": 4,
   "id": "52403cec",
   "metadata": {},
   "outputs": [],
   "source": [
    "class ECPoint:\n",
    "    def __init__(self, x, y):\n",
    "        self.x = x\n",
    "        self.y = y\n",
    "\n",
    "    def __eq__(self, other):\n",
    "        return isinstance(other, ECPoint) and self.x == other.x and self.y == other.y\n",
    "\n",
    "    def __neg__(self):\n",
    "        return ECPoint(self.x, (-self.y) % p)\n",
    "\n",
    "    def is_infinity(self):\n",
    "        return self.x is None and self.y is None\n",
    "\n",
    "    def __repr__ (self):\n",
    "        if self.is_infinity():\n",
    "            return \"O\"\n",
    "        return f\"({self.x}, {self.y})\""
   ]
  },
  {
   "cell_type": "code",
   "execution_count": 5,
   "id": "338506f4",
   "metadata": {},
   "outputs": [],
   "source": [
    "O = ECPoint(None, None)"
   ]
  },
  {
   "cell_type": "code",
   "execution_count": 6,
   "id": "03427d41",
   "metadata": {},
   "outputs": [],
   "source": [
    "def ec_add(P, Q):\n",
    "    if P.is_infinity():\n",
    "        return Q\n",
    "    if Q.is_infinity():\n",
    "        return P\n",
    "    if Q == -P:\n",
    "        return O\n",
    "    if P != Q:\n",
    "        try:\n",
    "            l = ((Q.y - P.y) * mod_inverse(Q.x - P.x, p)) % p\n",
    "        except ValueError:\n",
    "            return O\n",
    "    else:\n",
    "        if P.y == 0:\n",
    "            return O\n",
    "        l = ((3 * P.x**2 + a) * mod_inverse(2 * P.y, p)) % p\n",
    "\n",
    "    x_r = (l**2 - P.x - Q.x) % p\n",
    "    y_r = (l * (P.x - x_r) - P.y) % p\n",
    "    return ECPoint(x_r, y_r)\n"
   ]
  },
  {
   "cell_type": "code",
   "execution_count": 7,
   "id": "059503ee",
   "metadata": {},
   "outputs": [],
   "source": [
    "def ec_mul(P, n):\n",
    "    R = O\n",
    "    for i in range(n):\n",
    "        R = ec_add(R, P)\n",
    "    return R"
   ]
  },
  {
   "cell_type": "code",
   "execution_count": 21,
   "id": "04d082fb",
   "metadata": {},
   "outputs": [],
   "source": [
    "def list_points():\n",
    "    points = [O]\n",
    "    for x in range(p):\n",
    "        rhs = (x**3 + a*x + b) % p\n",
    "        for y in range(p):\n",
    "            if (y*y) % p == rhs:\n",
    "                points.append(ECPoint(x, y))\n",
    "    return points"
   ]
  },
  {
   "cell_type": "code",
   "execution_count": 22,
   "id": "1566b222",
   "metadata": {},
   "outputs": [
    {
     "data": {
      "text/plain": [
       "[O, (1, 1), (1, 4), (2, 0), (3, 1), (3, 4), (4, 0)]"
      ]
     },
     "execution_count": 22,
     "metadata": {},
     "output_type": "execute_result"
    }
   ],
   "source": [
    "list_points()"
   ]
  },
  {
   "cell_type": "code",
   "execution_count": 10,
   "id": "d48fe592",
   "metadata": {},
   "outputs": [
    {
     "name": "stdout",
     "output_type": "stream",
     "text": [
      "O\n",
      "(1, 1)\n",
      "(3, 4)\n",
      "(2, 0)\n",
      "(3, 1)\n",
      "(1, 4)\n",
      "O\n"
     ]
    }
   ],
   "source": [
    "G = ECPoint(1, 1)\n",
    "for i in range(7):\n",
    "    print(ec_mul(G, i))"
   ]
  },
  {
   "cell_type": "code",
   "execution_count": 11,
   "id": "f46404ca",
   "metadata": {},
   "outputs": [],
   "source": [
    "k = 3\n",
    "P = ec_mul(G, 3)"
   ]
  },
  {
   "cell_type": "code",
   "execution_count": 16,
   "id": "8ce976ff",
   "metadata": {},
   "outputs": [
    {
     "data": {
      "text/plain": [
       "[[O, (1, 1), (3, 4), (2, 0), (3, 1), (1, 4), O, (1, 1)],\n",
       " [(2, 0), (3, 1), (1, 4), O, (1, 1), (3, 4), (2, 0), (3, 1)],\n",
       " [O, (1, 1), (3, 4), (2, 0), (3, 1), (1, 4), O, (1, 1)],\n",
       " [(2, 0), (3, 1), (1, 4), O, (1, 1), (3, 4), (2, 0), (3, 1)],\n",
       " [O, (1, 1), (3, 4), (2, 0), (3, 1), (1, 4), O, (1, 1)],\n",
       " [(2, 0), (3, 1), (1, 4), O, (1, 1), (3, 4), (2, 0), (3, 1)],\n",
       " [O, (1, 1), (3, 4), (2, 0), (3, 1), (1, 4), O, (1, 1)],\n",
       " [(2, 0), (3, 1), (1, 4), O, (1, 1), (3, 4), (2, 0), (3, 1)]]"
      ]
     },
     "execution_count": 16,
     "metadata": {},
     "output_type": "execute_result"
    }
   ],
   "source": [
    "\n",
    "mat = list(list(range(8)) for _ in range(8))\n",
    "for i in range(8):\n",
    "    for j in range(8):\n",
    "        mat[i][j] = ec_add(ec_mul(P, i), ec_mul(G, j))\n",
    "mat"
   ]
  },
  {
   "cell_type": "code",
   "execution_count": 20,
   "id": "83277580",
   "metadata": {},
   "outputs": [
    {
     "name": "stdout",
     "output_type": "stream",
     "text": [
      "(3,1)が見つかったインデックス: [(0, 0), (0, 6), (1, 3), (2, 0), (2, 6), (3, 3), (4, 0), (4, 6), (5, 3), (6, 0), (6, 6)]\n",
      "合計11個見つかりました\n"
     ]
    }
   ],
   "source": [
    "# 行列からすべての(3,1)のインデックスを取得\n",
    "target_point = O\n",
    "indices = []\n",
    "\n",
    "for i in range(7):\n",
    "    for j in range(7):\n",
    "        if mat[i][j] == target_point:\n",
    "            indices.append((i, j))\n",
    "\n",
    "print(f\"(3,1)が見つかったインデックス: {indices}\")\n",
    "print(f\"合計{len(indices)}個見つかりました\")"
   ]
  },
  {
   "cell_type": "code",
   "execution_count": 18,
   "id": "153c1d80",
   "metadata": {},
   "outputs": [
    {
     "name": "stdout",
     "output_type": "stream",
     "text": [
      "Calculating Amplitudes A_jk:\n",
      "----------------------------\n",
      "A_00: 0.331+0.000j (Magnitude: 0.331)\n",
      "A_01: 0.086-0.134j (Magnitude: 0.159)\n",
      "A_02: 0.142-0.189j (Magnitude: 0.236)\n",
      "A_03: -0.181-0.134j (Magnitude: 0.225)\n",
      "A_04: -0.047+0.000j (Magnitude: 0.047)\n",
      "A_05: -0.181+0.134j (Magnitude: 0.225)\n",
      "A_06: 0.142+0.189j (Magnitude: 0.236)\n",
      "A_07: 0.086+0.134j (Magnitude: 0.159)\n",
      "A_10: -0.128-0.033j (Magnitude: 0.132)\n",
      "A_11: -0.128+0.033j (Magnitude: 0.132)\n",
      "A_12: -0.081+0.081j (Magnitude: 0.114)\n",
      "A_13: -0.014+0.081j (Magnitude: 0.082)\n",
      "A_14: 0.033+0.033j (Magnitude: 0.047)\n",
      "A_15: 0.033-0.033j (Magnitude: 0.047)\n",
      "A_16: -0.014-0.081j (Magnitude: 0.082)\n",
      "A_17: -0.081-0.081j (Magnitude: 0.114)\n",
      "A_20: 0.000-0.047j (Magnitude: 0.047)\n",
      "A_21: 0.142-0.067j (Magnitude: 0.157)\n",
      "A_22: -0.094-0.047j (Magnitude: 0.106)\n",
      "A_23: 0.075+0.000j (Magnitude: 0.075)\n",
      "A_24: -0.094+0.047j (Magnitude: 0.106)\n",
      "A_25: 0.142+0.067j (Magnitude: 0.157)\n",
      "A_26: -0.000+0.047j (Magnitude: 0.047)\n",
      "A_27: 0.209+0.000j (Magnitude: 0.209)\n",
      "A_30: -0.061-0.033j (Magnitude: 0.070)\n",
      "A_31: -0.081-0.014j (Magnitude: 0.082)\n",
      "A_32: -0.081+0.014j (Magnitude: 0.082)\n",
      "A_33: -0.061+0.033j (Magnitude: 0.070)\n",
      "A_34: -0.033+0.033j (Magnitude: 0.047)\n",
      "A_35: -0.014+0.014j (Magnitude: 0.020)\n",
      "A_36: -0.014-0.014j (Magnitude: 0.020)\n",
      "A_37: -0.033-0.033j (Magnitude: 0.047)\n",
      "A_40: 0.047+0.000j (Magnitude: 0.047)\n",
      "A_41: -0.114+0.067j (Magnitude: 0.132)\n",
      "A_42: 0.142+0.094j (Magnitude: 0.170)\n",
      "A_43: 0.020+0.067j (Magnitude: 0.070)\n",
      "A_44: 0.236+0.000j (Magnitude: 0.236)\n",
      "A_45: 0.020-0.067j (Magnitude: 0.070)\n",
      "A_46: 0.142-0.094j (Magnitude: 0.170)\n",
      "A_47: -0.114-0.067j (Magnitude: 0.132)\n",
      "A_50: -0.061+0.033j (Magnitude: 0.070)\n",
      "A_51: -0.033+0.033j (Magnitude: 0.047)\n",
      "A_52: -0.014+0.014j (Magnitude: 0.020)\n",
      "A_53: -0.014-0.014j (Magnitude: 0.020)\n",
      "A_54: -0.033-0.033j (Magnitude: 0.047)\n",
      "A_55: -0.061-0.033j (Magnitude: 0.070)\n",
      "A_56: -0.081-0.014j (Magnitude: 0.082)\n",
      "A_57: -0.081+0.014j (Magnitude: 0.082)\n",
      "A_60: -0.000+0.047j (Magnitude: 0.047)\n",
      "A_61: 0.209+0.000j (Magnitude: 0.209)\n",
      "A_62: -0.000-0.047j (Magnitude: 0.047)\n",
      "A_63: 0.142-0.067j (Magnitude: 0.157)\n",
      "A_64: -0.094-0.047j (Magnitude: 0.106)\n",
      "A_65: 0.075+0.000j (Magnitude: 0.075)\n",
      "A_66: -0.094+0.047j (Magnitude: 0.106)\n",
      "A_67: 0.142+0.067j (Magnitude: 0.157)\n",
      "A_70: -0.128+0.033j (Magnitude: 0.132)\n",
      "A_71: -0.081+0.081j (Magnitude: 0.114)\n",
      "A_72: -0.014+0.081j (Magnitude: 0.082)\n",
      "A_73: 0.033+0.033j (Magnitude: 0.047)\n",
      "A_74: 0.033-0.033j (Magnitude: 0.047)\n",
      "A_75: -0.014-0.081j (Magnitude: 0.082)\n",
      "A_76: -0.081-0.081j (Magnitude: 0.114)\n",
      "A_77: -0.128-0.033j (Magnitude: 0.132)\n",
      "\n",
      "Magnitude of Amplitudes (abs(A_jk)) Matrix:\n",
      "------------------------------------------\n",
      "[[0.331 0.159 0.236 0.225 0.047 0.225 0.236 0.159]\n",
      " [0.132 0.132 0.114 0.082 0.047 0.047 0.082 0.114]\n",
      " [0.047 0.157 0.106 0.075 0.106 0.157 0.047 0.209]\n",
      " [0.07  0.082 0.082 0.07  0.047 0.02  0.02  0.047]\n",
      " [0.047 0.132 0.17  0.07  0.236 0.07  0.17  0.132]\n",
      " [0.07  0.047 0.02  0.02  0.047 0.07  0.082 0.082]\n",
      " [0.047 0.209 0.047 0.157 0.106 0.075 0.106 0.157]\n",
      " [0.132 0.114 0.082 0.047 0.047 0.082 0.114 0.132]]\n",
      "\n",
      "Maximum Amplitude Magnitude: 0.331\n",
      "Minimum Amplitude Magnitude: 0.020\n",
      "Difference: 0.311\n",
      "\n",
      "Pairs with Amplitude Magnitude > 0.165 (High Probability States):\n",
      "  (j=0, k=0): Magnitude 0.331\n",
      "  (j=0, k=2): Magnitude 0.236\n",
      "  (j=0, k=3): Magnitude 0.225\n",
      "  (j=0, k=5): Magnitude 0.225\n",
      "  (j=0, k=6): Magnitude 0.236\n",
      "  (j=2, k=7): Magnitude 0.209\n",
      "  (j=4, k=2): Magnitude 0.170\n",
      "  (j=4, k=4): Magnitude 0.236\n",
      "  (j=4, k=6): Magnitude 0.170\n",
      "  (j=6, k=1): Magnitude 0.209\n"
     ]
    }
   ],
   "source": [
    "import cmath\n",
    "import math\n",
    "import numpy as np\n",
    "\n",
    "# 定数\n",
    "N = 8\n",
    "coeff = 1 / (8 * math.sqrt(7))\n",
    "\n",
    "# 各 (j, k) ペアの振幅を格納する行列\n",
    "amplitudes = np.zeros((N, N), dtype=complex)\n",
    "\n",
    "print(\"Calculating Amplitudes A_jk:\")\n",
    "print(\"----------------------------\")\n",
    "\n",
    "for j in range(N):\n",
    "    for k in range(N):\n",
    "        # 各指数関数項を計算\n",
    "        term1 = cmath.exp(-1j * math.pi * j)\n",
    "        term2 = cmath.exp(-1j * math.pi / 4 * (j + k))\n",
    "        term3 = cmath.exp(-1j * math.pi / 2 * (j + 2 * k))\n",
    "        term4 = cmath.exp(-1j * math.pi / 4 * (3 * j + k))\n",
    "        term5 = cmath.exp(-1j * math.pi * j - 1j * math.pi / 4 * k)\n",
    "        term6 = cmath.exp(-1j * math.pi / 4 * (5 * j + k))\n",
    "        term7 = cmath.exp(-1j * 3 * math.pi / 2 * j - 1j * math.pi * k)\n",
    "\n",
    "        # 7つの項の合計\n",
    "        sum_of_terms = term1 + term2 + term3 + term4 + term5 + term6 + term7\n",
    "\n",
    "        # 振幅を計算\n",
    "        amplitudes[j, k] = coeff * sum_of_terms\n",
    "\n",
    "        # 振幅の絶対値を計算 (測定確率の平方根)\n",
    "        abs_amplitude = abs(amplitudes[j, k])\n",
    "\n",
    "        # 小数点以下3桁で表示\n",
    "        print(f\"A_{j}{k}: {amplitudes[j, k]:.3f} (Magnitude: {abs_amplitude:.3f})\")\n",
    "\n",
    "# すべての振幅の絶対値の分布を表示\n",
    "print(\"\\nMagnitude of Amplitudes (abs(A_jk)) Matrix:\")\n",
    "print(\"------------------------------------------\")\n",
    "# 表示を見やすくするため、絶対値のみを3桁で表示\n",
    "abs_amplitudes_matrix = np.array([[abs(val) for val in row] for row in amplitudes])\n",
    "print(np.round(abs_amplitudes_matrix, 3))\n",
    "\n",
    "# 振幅の絶対値の最大値と最小値、およびそれらの差を確認\n",
    "max_amp = np.max(abs_amplitudes_matrix)\n",
    "min_amp = np.min(abs_amplitudes_matrix)\n",
    "print(f\"\\nMaximum Amplitude Magnitude: {max_amp:.3f}\")\n",
    "print(f\"Minimum Amplitude Magnitude: {min_amp:.3f}\")\n",
    "print(f\"Difference: {max_amp - min_amp:.3f}\")\n",
    "\n",
    "# 振幅の絶対値が特定の閾値（例えば最大値の半分）より大きいペアを特定\n",
    "threshold = max_amp * 0.5 # 例として最大振幅の半分を閾値とする\n",
    "high_amplitude_pairs = []\n",
    "for j in range(N):\n",
    "    for k in range(N):\n",
    "        if abs(amplitudes[j, k]) > threshold:\n",
    "            high_amplitude_pairs.append((j, k, abs(amplitudes[j, k])))\n",
    "\n",
    "if high_amplitude_pairs:\n",
    "    print(f\"\\nPairs with Amplitude Magnitude > {threshold:.3f} (High Probability States):\")\n",
    "    for pair in high_amplitude_pairs:\n",
    "        print(f\"  (j={pair[0]}, k={pair[1]}): Magnitude {pair[2]:.3f}\")\n",
    "else:\n",
    "    print(\"\\nNo high amplitude pairs found above the threshold. Amplitudes might be relatively uniform.\")"
   ]
  },
  {
   "cell_type": "code",
   "execution_count": null,
   "id": "6daaf0c5",
   "metadata": {},
   "outputs": [],
   "source": []
  }
 ],
 "metadata": {
  "kernelspec": {
   "display_name": "Python 3",
   "language": "python",
   "name": "python3"
  },
  "language_info": {
   "codemirror_mode": {
    "name": "ipython",
    "version": 3
   },
   "file_extension": ".py",
   "mimetype": "text/x-python",
   "name": "python",
   "nbconvert_exporter": "python",
   "pygments_lexer": "ipython3",
   "version": "3.10.12"
  }
 },
 "nbformat": 4,
 "nbformat_minor": 5
}
