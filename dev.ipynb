{
 "cells": [
  {
   "cell_type": "code",
   "execution_count": 2,
   "id": "4b9f4148",
   "metadata": {},
   "outputs": [],
   "source": [
    "from sympy import mod_inverse"
   ]
  },
  {
   "cell_type": "code",
   "execution_count": 33,
   "id": "77991f8f",
   "metadata": {},
   "outputs": [],
   "source": [
    "p = 5\n",
    "a = 2\n",
    "b = 3"
   ]
  },
  {
   "cell_type": "code",
   "execution_count": 4,
   "id": "52403cec",
   "metadata": {},
   "outputs": [],
   "source": [
    "class ECPoint:\n",
    "    def __init__(self, x, y):\n",
    "        self.x = x\n",
    "        self.y = y\n",
    "\n",
    "    def __eq__(self, other):\n",
    "        return isinstance(other, ECPoint) and self.x == other.x and self.y == other.y\n",
    "\n",
    "    def __neg__(self):\n",
    "        return ECPoint(self.x, (-self.y) % p)\n",
    "\n",
    "    def is_infinity(self):\n",
    "        return self.x is None and self.y is None\n",
    "\n",
    "    def __repr__ (self):\n",
    "        if self.is_infinity():\n",
    "            return \"O\"\n",
    "        return f\"({self.x}, {self.y})\""
   ]
  },
  {
   "cell_type": "code",
   "execution_count": 5,
   "id": "338506f4",
   "metadata": {},
   "outputs": [],
   "source": [
    "O = ECPoint(None, None)"
   ]
  },
  {
   "cell_type": "code",
   "execution_count": 6,
   "id": "03427d41",
   "metadata": {},
   "outputs": [],
   "source": [
    "def ec_add(P, Q):\n",
    "    if P.is_infinity():\n",
    "        return Q\n",
    "    if Q.is_infinity():\n",
    "        return P\n",
    "    if Q == -P:\n",
    "        return O\n",
    "    if P != Q:\n",
    "        try:\n",
    "            l = ((Q.y - P.y) * mod_inverse(Q.x - P.x, p)) % p\n",
    "        except ValueError:\n",
    "            return O\n",
    "    else:\n",
    "        if P.y == 0:\n",
    "            return O\n",
    "        l = ((3 * P.x**2 + a) * mod_inverse(2 * P.y, p)) % p\n",
    "\n",
    "    x_r = (l**2 - P.x - Q.x) % p\n",
    "    y_r = (l * (P.x - x_r) - P.y) % p\n",
    "    return ECPoint(x_r, y_r)\n"
   ]
  },
  {
   "cell_type": "code",
   "execution_count": 7,
   "id": "059503ee",
   "metadata": {},
   "outputs": [],
   "source": [
    "def ec_mul(P, n):\n",
    "    R = O\n",
    "    for i in range(n):\n",
    "        R = ec_add(R, P)\n",
    "    return R"
   ]
  },
  {
   "cell_type": "code",
   "execution_count": 8,
   "id": "04d082fb",
   "metadata": {},
   "outputs": [],
   "source": [
    "def list_points():\n",
    "    points = [O]\n",
    "    for x in range(p):\n",
    "        rhs = (x**3 + a*x + b) % p\n",
    "        for y in range(p):\n",
    "            if (y*y) % p == rhs:\n",
    "                points.append(ECPoint(x, y))\n",
    "    return points"
   ]
  },
  {
   "cell_type": "code",
   "execution_count": 34,
   "id": "1566b222",
   "metadata": {},
   "outputs": [
    {
     "data": {
      "text/plain": [
       "[O, (1, 1), (1, 4), (2, 0), (3, 1), (3, 4), (4, 0)]"
      ]
     },
     "execution_count": 34,
     "metadata": {},
     "output_type": "execute_result"
    }
   ],
   "source": [
    "list_points()"
   ]
  },
  {
   "cell_type": "code",
   "execution_count": 38,
   "id": "d48fe592",
   "metadata": {},
   "outputs": [
    {
     "name": "stdout",
     "output_type": "stream",
     "text": [
      "O\n",
      "(1, 1)\n",
      "(3, 4)\n",
      "(2, 0)\n",
      "(3, 1)\n",
      "(1, 4)\n",
      "O\n"
     ]
    }
   ],
   "source": [
    "G = ECPoint(1, 1)\n",
    "for i in range(7):\n",
    "    print(ec_mul(G, i))"
   ]
  },
  {
   "cell_type": "code",
   "execution_count": 39,
   "id": "f46404ca",
   "metadata": {},
   "outputs": [],
   "source": [
    "k = 3\n",
    "P = ec_mul(G, 3)"
   ]
  },
  {
   "cell_type": "code",
   "execution_count": 40,
   "id": "8ce976ff",
   "metadata": {},
   "outputs": [
    {
     "data": {
      "text/plain": [
       "[[O, (1, 1), (3, 4), (2, 0), (3, 1), (1, 4), O],\n",
       " [(2, 0), (3, 1), (1, 4), O, (1, 1), (3, 4), (2, 0)],\n",
       " [O, (1, 1), (3, 4), (2, 0), (3, 1), (1, 4), O],\n",
       " [(2, 0), (3, 1), (1, 4), O, (1, 1), (3, 4), (2, 0)],\n",
       " [O, (1, 1), (3, 4), (2, 0), (3, 1), (1, 4), O],\n",
       " [(2, 0), (3, 1), (1, 4), O, (1, 1), (3, 4), (2, 0)],\n",
       " [O, (1, 1), (3, 4), (2, 0), (3, 1), (1, 4), O]]"
      ]
     },
     "execution_count": 40,
     "metadata": {},
     "output_type": "execute_result"
    }
   ],
   "source": [
    "\n",
    "mat = list(list(range(7)) for _ in range(7))\n",
    "for i in range(7):\n",
    "    for j in range(7):\n",
    "        mat[i][j] = ec_add(ec_mul(P, i), ec_mul(G, j))\n",
    "mat"
   ]
  },
  {
   "cell_type": "code",
   "execution_count": 41,
   "id": "83277580",
   "metadata": {},
   "outputs": [
    {
     "name": "stdout",
     "output_type": "stream",
     "text": [
      "(3,1)が見つかったインデックス: [(0, 4), (1, 1), (2, 4), (3, 1), (4, 4), (5, 1), (6, 4)]\n",
      "合計7個見つかりました\n"
     ]
    }
   ],
   "source": [
    "# 行列からすべての(3,1)のインデックスを取得\n",
    "target_point = ECPoint(3, 1)\n",
    "indices = []\n",
    "\n",
    "for i in range(7):\n",
    "    for j in range(7):\n",
    "        if mat[i][j] == target_point:\n",
    "            indices.append((i, j))\n",
    "\n",
    "print(f\"(3,1)が見つかったインデックス: {indices}\")\n",
    "print(f\"合計{len(indices)}個見つかりました\")"
   ]
  }
 ],
 "metadata": {
  "kernelspec": {
   "display_name": "Python 3",
   "language": "python",
   "name": "python3"
  },
  "language_info": {
   "codemirror_mode": {
    "name": "ipython",
    "version": 3
   },
   "file_extension": ".py",
   "mimetype": "text/x-python",
   "name": "python",
   "nbconvert_exporter": "python",
   "pygments_lexer": "ipython3",
   "version": "3.10.12"
  }
 },
 "nbformat": 4,
 "nbformat_minor": 5
}
